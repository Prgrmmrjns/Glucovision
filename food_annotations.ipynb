{
 "cells": [
  {
   "cell_type": "code",
   "execution_count": 1,
   "metadata": {},
   "outputs": [],
   "source": [
    "import anthropic\n",
    "import base64\n",
    "import pandas as pd\n",
    "import base64\n",
    "import re\n",
    "import os\n",
    "import numpy as np\n",
    "import requests\n",
    "import ollama\n",
    "\n",
    "pd.options.mode.chained_assignment = None"
   ]
  },
  {
   "cell_type": "code",
   "execution_count": 2,
   "metadata": {},
   "outputs": [],
   "source": [
    "macronutrients_instruction = '''Examine the provided meal image to analyze and estimate its nutritional content accurately. Focus on determining the amounts of simple sugars (like industrial sugar and honey), \n",
    "complex sugars (such as starch and whole grains), proteins, fats, and dietary fibers (found in fruits and vegetables), all in grams. Also estimate the total weight of the meal in grams.\n",
    "To assist in accurately gauging the scale of the meal, a 1 Swiss Franc coin, which has a diameter of 23.22 mm, may be present in the picture. \n",
    "Use the size of this coin as a reference to estimate the size of the meal and the amounts of the nutrients more precisely. \n",
    "Provide your assessment of each nutritional component in grams. All estimates should be given as a single whole number. If there is no coin in the picture or the meal is covered partially, estimate anyways.\n",
    "Format your response as follows:\n",
    "- Simple sugars (g): \n",
    "- Complex sugars (g): \n",
    "- Proteins (g): \n",
    "- Fats (g): \n",
    "- Dietary fibers (g): \n",
    "- Weight (g): \n",
    "- Explanation: \n",
    "\n",
    "Example response:\n",
    "Simple sugars (g): 40\n",
    "Complex sugars (g): 60\n",
    "Proteins (g): 25\n",
    "Fats (g): 30\n",
    "Dietary fibers (g): 5 \n",
    "Weight (g): 750\n",
    "Explanation: The pizza and cola meal, with its refined crust and toppings, is rich in carbs, fats, and proteins. The cola boosts the meal's simple sugars. \n",
    "The 1 Swiss Franc coin helps estimate the pizza at 30 cm diameter and the cola at 330 ml, indicating a significant blood sugar impact.'''"
   ]
  },
  {
   "cell_type": "code",
   "execution_count": 3,
   "metadata": {},
   "outputs": [],
   "source": [
    "def encode_image(image_path):\n",
    "    with open(image_path, \"rb\") as image_file:\n",
    "        return base64.b64encode(image_file.read()).decode('utf-8')\n",
    "\n",
    "def parse_nutritional_info(text):\n",
    "    pattern = r'(Simple sugars \\(g\\)|Complex sugars \\(g\\)|Proteins \\(g\\)|Fats \\(g\\)|Dietary fibers \\(g\\)|Weight \\(g\\)):\\s*(\\d+)'\n",
    "    matches = re.findall(pattern, text)\n",
    "    nutritional_info = {match[0]: int(match[1]) for match in matches}\n",
    "    simple_sugars = nutritional_info.get('Simple sugars (g)', 0)\n",
    "    complex_sugars = nutritional_info.get('Complex sugars (g)', 0)\n",
    "    proteins = nutritional_info.get('Proteins (g)', 0)\n",
    "    fats = nutritional_info.get('Fats (g)', 0)\n",
    "    dietary_fibers = nutritional_info.get('Dietary fibers (g)', 0)\n",
    "    weight = nutritional_info.get('Weight (g)', 0)\n",
    "    return simple_sugars, complex_sugars, proteins, fats, dietary_fibers, weight"
   ]
  },
  {
   "cell_type": "code",
   "execution_count": 13,
   "metadata": {},
   "outputs": [],
   "source": [
    "claude_client = anthropic.Anthropic(api_key=\"sk-WOih6ZqdppfFCsptpJcFsSpWJ8u-9Cuy_-6N-inqcST3BlbkFJnff9SwAVU-YXkjDVdoOA1p9LAgfhqzhgsTRWZimmQA\")\n",
    "\n",
    "api_key = \"sk-WOih6ZqdppfFCsptpJcFsSpWJ8u-9Cuy_-6N-inqcST3BlbkFJnff9SwAVU-YXkjDVdoOA1p9LAgfhqzhgsTRWZimmQA\"\n",
    "headers = {\n",
    "  \"Content-Type\": \"application/json\",\n",
    "  \"Authorization\": f\"Bearer {api_key}\"\n",
    "}"
   ]
  },
  {
   "cell_type": "code",
   "execution_count": 14,
   "metadata": {},
   "outputs": [],
   "source": [
    "def claude_api_call(base64_image):\n",
    "    response = claude_client.messages.create(\n",
    "        model=\"claude-3-opus-20240229\",\n",
    "        max_tokens=1024,\n",
    "        messages=[\n",
    "            {\n",
    "                \"role\": \"user\",\n",
    "                \"content\": [\n",
    "                    {\n",
    "                        \"type\": \"image\",\n",
    "                        \"source\": {\n",
    "                            \"type\": \"base64\",\n",
    "                            \"media_type\": \"image/jpeg\",  \n",
    "                            \"data\": base64_image,\n",
    "                        },\n",
    "                    },\n",
    "                    {\n",
    "                        \"type\": \"text\",\n",
    "                        \"text\": macronutrients_instruction\n",
    "                    }\n",
    "                ],\n",
    "            }\n",
    "        ],\n",
    "    )\n",
    "    message = response.content[0].text\n",
    "    return message\n",
    "\n",
    "def openai_api_call(base64_image):\n",
    "    payload = {\n",
    "    \"model\": \"gpt-4o\",\n",
    "    \"messages\": [\n",
    "        {\n",
    "        \"role\": \"user\",\n",
    "        \"content\": [\n",
    "            {\n",
    "            \"type\": \"text\",\n",
    "            \"text\": macronutrients_instruction\n",
    "            },\n",
    "            {\n",
    "            \"type\": \"image_url\",\n",
    "            \"image_url\": {\n",
    "                \"url\": f\"data:image/jpeg;base64,{base64_image}\"\n",
    "            }\n",
    "            }\n",
    "        ]\n",
    "        }\n",
    "    ],\n",
    "    \"max_tokens\": 300\n",
    "    }\n",
    "    response = requests.post(\"https://api.openai.com/v1/chat/completions\", headers=headers, json=payload)\n",
    "    message = response.json()['choices'][0]['message']['content']\n",
    "    return message\n",
    "\n",
    "# make sure to install ollama and llama3.2-vision\n",
    "def ollama_call(image_path):\n",
    "    res = ollama.chat(\n",
    "        model=\"llama3.2-vision\",\n",
    "        messages=[\n",
    "            {\n",
    "                'role': 'user',\n",
    "                'content': macronutrients_instruction,\n",
    "                'images': [image_path]\n",
    "            }\n",
    "        ]\n",
    "    )\n",
    "    message = res['message']['content']\n",
    "    return message"
   ]
  },
  {
   "cell_type": "code",
   "execution_count": 15,
   "metadata": {},
   "outputs": [
    {
     "name": "stdout",
     "output_type": "stream",
     "text": [
      "Processing gpt4o\n",
      "Processing patient 001\n"
     ]
    },
    {
     "ename": "NameError",
     "evalue": "name 'message' is not defined",
     "output_type": "error",
     "traceback": [
      "\u001b[0;31m---------------------------------------------------------------------------\u001b[0m",
      "\u001b[0;31mNameError\u001b[0m                                 Traceback (most recent call last)",
      "Cell \u001b[0;32mIn[15], line 28\u001b[0m\n\u001b[1;32m     26\u001b[0m \u001b[38;5;28;01melif\u001b[39;00m model \u001b[38;5;241m==\u001b[39m \u001b[38;5;124m'\u001b[39m\u001b[38;5;124mollama\u001b[39m\u001b[38;5;124m'\u001b[39m:\n\u001b[1;32m     27\u001b[0m     message \u001b[38;5;241m=\u001b[39m ollama_call(image_path)\n\u001b[0;32m---> 28\u001b[0m parsed_info \u001b[38;5;241m=\u001b[39m parse_nutritional_info(\u001b[43mmessage\u001b[49m)\n\u001b[1;32m     29\u001b[0m \u001b[38;5;28;01mif\u001b[39;00m np\u001b[38;5;241m.\u001b[39msum(parsed_info) \u001b[38;5;241m>\u001b[39m \u001b[38;5;241m0\u001b[39m:\n\u001b[1;32m     30\u001b[0m     food_data\u001b[38;5;241m.\u001b[39mloc[i, \u001b[38;5;124m'\u001b[39m\u001b[38;5;124msimple_sugars\u001b[39m\u001b[38;5;124m'\u001b[39m] \u001b[38;5;241m=\u001b[39m parsed_info[\u001b[38;5;241m0\u001b[39m]\n",
      "\u001b[0;31mNameError\u001b[0m: name 'message' is not defined"
     ]
    }
   ],
   "source": [
    "for model in ['gpt4o', 'ollama']:\n",
    "    print(f\"Processing {model}\")\n",
    "    for patient in ['001', '002', '004', '006', '007', '008']:\n",
    "        print(f\"Processing patient {patient}\")\n",
    "        food_data_path = f\"diabetes_subset_pictures-glucose-food-insulin/{patient}/food.csv\"\n",
    "        food_data = pd.read_csv(food_data_path)\n",
    "        food_data['simple_sugars'] = 0.0\n",
    "        food_data['complex_sugars'] = 0.0 \n",
    "        food_data['proteins'] = 0.0\n",
    "        food_data['fats'] = 0.0\n",
    "        food_data['dietary_fibers'] = 0.0\n",
    "        food_data['weight'] = 0.0\n",
    "        food_data['message'] = ''\n",
    "        \n",
    "        for i, row in food_data.iterrows():\n",
    "            image_path = f\"diabetes_subset_pictures-glucose-food-insulin/{patient}/food_pictures/{row['picture']}\"\n",
    "            base64_image = encode_image(image_path)\n",
    "            parsed_info = (0.0, 0.0, 0.0, 0.0, 0.0)\n",
    "            \n",
    "            while np.sum(parsed_info) == 0:\n",
    "                if model == 'claude':\n",
    "                    message = claude_api_call(base64_image)\n",
    "                elif model == 'openai':\n",
    "                    message = openai_api_call(base64_image)\n",
    "                    print(message)\n",
    "                elif model == 'ollama':\n",
    "                    message = ollama_call(image_path)\n",
    "                parsed_info = parse_nutritional_info(message)\n",
    "                if np.sum(parsed_info) > 0:\n",
    "                    food_data.loc[i, 'simple_sugars'] = parsed_info[0]\n",
    "                    food_data.loc[i, 'complex_sugars'] = parsed_info[1]\n",
    "                    food_data.loc[i, 'proteins'] = parsed_info[2]\n",
    "                    food_data.loc[i, 'fats'] = parsed_info[3]\n",
    "                    food_data.loc[i, 'dietary_fibers'] = parsed_info[4]\n",
    "                    food_data.loc[i, 'weight'] = parsed_info[5]\n",
    "                    food_data.loc[i, 'message'] = str(message)\n",
    "        #food_data.to_csv(f'food_data/{model}/{patient}.csv', index=False)"
   ]
  },
  {
   "cell_type": "code",
   "execution_count": 16,
   "metadata": {},
   "outputs": [],
   "source": [
    "res = openai_api_call(base64_image)"
   ]
  },
  {
   "cell_type": "code",
   "execution_count": 17,
   "metadata": {},
   "outputs": [
    {
     "data": {
      "text/plain": [
       "{'id': 'chatcmpl-AaPqTFyMDaoc4qUWskQQOy1jYyz8m',\n",
       " 'object': 'chat.completion',\n",
       " 'created': 1733242521,\n",
       " 'model': 'gpt-4o-2024-08-06',\n",
       " 'choices': [{'index': 0,\n",
       "   'message': {'role': 'assistant',\n",
       "    'content': \"Simple sugars (g): 2  \\nComplex sugars (g): 5  \\nProteins (g): 3  \\nFats (g): 4  \\nDietary fibers (g): 10  \\nWeight (g): 150  \\nExplanation: The image shows a bowl of chopped lettuce or cabbage. The presence of a 1 Swiss Franc coin aids in estimating the bowl's size, suggesting a moderate portion. The dish is primarily composed of leafy greens, which are low in simple and complex sugars and moderate in dietary fiber. The minimal dressing or seasoning could contribute to small amounts of fats and simple sugars.\",\n",
       "    'refusal': None},\n",
       "   'logprobs': None,\n",
       "   'finish_reason': 'stop'}],\n",
       " 'usage': {'prompt_tokens': 1452,\n",
       "  'completion_tokens': 122,\n",
       "  'total_tokens': 1574,\n",
       "  'prompt_tokens_details': {'cached_tokens': 0, 'audio_tokens': 0},\n",
       "  'completion_tokens_details': {'reasoning_tokens': 0,\n",
       "   'audio_tokens': 0,\n",
       "   'accepted_prediction_tokens': 0,\n",
       "   'rejected_prediction_tokens': 0}},\n",
       " 'system_fingerprint': 'fp_831e067d82'}"
      ]
     },
     "execution_count": 17,
     "metadata": {},
     "output_type": "execute_result"
    }
   ],
   "source": [
    "res.json()"
   ]
  },
  {
   "cell_type": "code",
   "execution_count": null,
   "metadata": {},
   "outputs": [],
   "source": []
  }
 ],
 "metadata": {
  "kernelspec": {
   "display_name": "newest",
   "language": "python",
   "name": "python3"
  },
  "language_info": {
   "codemirror_mode": {
    "name": "ipython",
    "version": 3
   },
   "file_extension": ".py",
   "mimetype": "text/x-python",
   "name": "python",
   "nbconvert_exporter": "python",
   "pygments_lexer": "ipython3",
   "version": "3.12.2"
  }
 },
 "nbformat": 4,
 "nbformat_minor": 2
}
