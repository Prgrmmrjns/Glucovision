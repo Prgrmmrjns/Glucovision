{
 "cells": [
  {
   "cell_type": "code",
   "execution_count": 34,
   "metadata": {},
   "outputs": [],
   "source": [
    "import anthropic\n",
    "import base64\n",
    "import pandas as pd\n",
    "import os\n",
    "import base64\n",
    "import re\n",
    "import numpy as np"
   ]
  },
  {
   "cell_type": "code",
   "execution_count": 35,
   "metadata": {},
   "outputs": [],
   "source": [
    "macronutrients_instruction = '''Examine the provided meal image to analyze and estimate its nutritional content accurately. Focus on determining the amounts of simple sugars (like industrial sugar and honey), \n",
    "complex sugars (such as starch and whole grains), proteins, fats, and dietary fibers (found in fruits and vegetables), all in grams. Also estimate the total weight of the meal in grams.\n",
    "To assist in accurately gauging the scale of the meal, a 1 Swiss Franc coin, which has a diameter of 23.22 mm, may be present in the picture. \n",
    "Use the size of this coin as a reference to estimate the size of the meal and the amounts of the nutrients more precisely. \n",
    "Provide your assessment of each nutritional component in grams. All estimates should be given as a single whole number. If there is no coin in the picture or the meal is covered partially, estimate anyways.\n",
    "Format your response as follows:\n",
    "- Simple sugars (g): \n",
    "- Complex sugars (g): \n",
    "- Proteins (g): \n",
    "- Fats (g): \n",
    "- Dietary fibers (g): \n",
    "- Weight (g): \n",
    "- Explanation: \n",
    "\n",
    "Example response:\n",
    "Simple sugars (g): 40\n",
    "Complex sugars (g): 60\n",
    "Proteins (g): 25\n",
    "Fats (g): 30\n",
    "Dietary fibers (g): 5 \n",
    "Weight (g): 750\n",
    "Explanation: The pizza and cola meal, with its refined crust and toppings, is rich in carbs, fats, and proteins. The cola boosts the meal's simple sugars. \n",
    "The 1 Swiss Franc coin helps estimate the pizza at 30 cm diameter and the cola at 330 ml, indicating a significant blood sugar impact.'''"
   ]
  },
  {
   "cell_type": "code",
   "execution_count": 36,
   "metadata": {},
   "outputs": [],
   "source": [
    "def encode_image(image_path):\n",
    "    with open(image_path, \"rb\") as image_file:\n",
    "        return base64.b64encode(image_file.read()).decode('utf-8')\n",
    "\n",
    "def parse_nutritional_info(text):\n",
    "    pattern = r'(Simple sugars \\(g\\)|Complex sugars \\(g\\)|Proteins \\(g\\)|Fats \\(g\\)|Dietary fibers \\(g\\)|Weight \\(g\\)):\\s*(\\d+)'\n",
    "    matches = re.findall(pattern, text)\n",
    "    nutritional_info = {match[0]: int(match[1]) for match in matches}\n",
    "    simple_sugars = nutritional_info.get('Simple sugars (g)', 0)\n",
    "    complex_sugars = nutritional_info.get('Complex sugars (g)', 0)\n",
    "    proteins = nutritional_info.get('Proteins (g)', 0)\n",
    "    fats = nutritional_info.get('Fats (g)', 0)\n",
    "    dietary_fibers = nutritional_info.get('Dietary fibers (g)', 0)\n",
    "    weight = nutritional_info.get('Weight (g)', 0)\n",
    "    return simple_sugars, complex_sugars, proteins, fats, dietary_fibers, weight\n",
    "\n",
    "\n",
    "image_path = \"/Users/jwolber/Documents/Python_Projects/Glucovision/diabetes_subset_pictures-glucose-food-insulin/001/food_pictures/001.jpg\"\n",
    "base64_image = encode_image(image_path)\n",
    "\n",
    "\n"
   ]
  },
  {
   "cell_type": "code",
   "execution_count": 37,
   "metadata": {},
   "outputs": [],
   "source": [
    "client = anthropic.Anthropic(api_key=\"your-key-here\")\n"
   ]
  },
  {
   "cell_type": "code",
   "execution_count": 48,
   "metadata": {},
   "outputs": [
    {
     "name": "stdout",
     "output_type": "stream",
     "text": [
      "Compressed /Users/jwolber/Documents/Python_Projects/Glucovision/diabetes_subset_pictures-glucose-food-insulin/008/food_pictures/002.jpg and saved to /Users/jwolber/Documents/Python_Projects/Glucovision/diabetes_subset_pictures-glucose-food-insulin/008/food_pictures/002.jpg\n",
      "Compressed /Users/jwolber/Documents/Python_Projects/Glucovision/diabetes_subset_pictures-glucose-food-insulin/008/food_pictures/003.jpg and saved to /Users/jwolber/Documents/Python_Projects/Glucovision/diabetes_subset_pictures-glucose-food-insulin/008/food_pictures/003.jpg\n",
      "Compressed /Users/jwolber/Documents/Python_Projects/Glucovision/diabetes_subset_pictures-glucose-food-insulin/008/food_pictures/017.jpg and saved to /Users/jwolber/Documents/Python_Projects/Glucovision/diabetes_subset_pictures-glucose-food-insulin/008/food_pictures/017.jpg\n",
      "Compressed /Users/jwolber/Documents/Python_Projects/Glucovision/diabetes_subset_pictures-glucose-food-insulin/008/food_pictures/001.jpg and saved to /Users/jwolber/Documents/Python_Projects/Glucovision/diabetes_subset_pictures-glucose-food-insulin/008/food_pictures/001.jpg\n",
      "Compressed /Users/jwolber/Documents/Python_Projects/Glucovision/diabetes_subset_pictures-glucose-food-insulin/008/food_pictures/015.jpg and saved to /Users/jwolber/Documents/Python_Projects/Glucovision/diabetes_subset_pictures-glucose-food-insulin/008/food_pictures/015.jpg\n",
      "Compressed /Users/jwolber/Documents/Python_Projects/Glucovision/diabetes_subset_pictures-glucose-food-insulin/008/food_pictures/014.jpg and saved to /Users/jwolber/Documents/Python_Projects/Glucovision/diabetes_subset_pictures-glucose-food-insulin/008/food_pictures/014.jpg\n",
      "Compressed /Users/jwolber/Documents/Python_Projects/Glucovision/diabetes_subset_pictures-glucose-food-insulin/008/food_pictures/011.jpg and saved to /Users/jwolber/Documents/Python_Projects/Glucovision/diabetes_subset_pictures-glucose-food-insulin/008/food_pictures/011.jpg\n",
      "Compressed /Users/jwolber/Documents/Python_Projects/Glucovision/diabetes_subset_pictures-glucose-food-insulin/008/food_pictures/005.jpg and saved to /Users/jwolber/Documents/Python_Projects/Glucovision/diabetes_subset_pictures-glucose-food-insulin/008/food_pictures/005.jpg\n",
      "Compressed /Users/jwolber/Documents/Python_Projects/Glucovision/diabetes_subset_pictures-glucose-food-insulin/008/food_pictures/013.jpg and saved to /Users/jwolber/Documents/Python_Projects/Glucovision/diabetes_subset_pictures-glucose-food-insulin/008/food_pictures/013.jpg\n",
      "Compressed /Users/jwolber/Documents/Python_Projects/Glucovision/diabetes_subset_pictures-glucose-food-insulin/008/food_pictures/007.jpg and saved to /Users/jwolber/Documents/Python_Projects/Glucovision/diabetes_subset_pictures-glucose-food-insulin/008/food_pictures/007.jpg\n",
      "Compressed /Users/jwolber/Documents/Python_Projects/Glucovision/diabetes_subset_pictures-glucose-food-insulin/008/food_pictures/006.jpg and saved to /Users/jwolber/Documents/Python_Projects/Glucovision/diabetes_subset_pictures-glucose-food-insulin/008/food_pictures/006.jpg\n",
      "Compressed /Users/jwolber/Documents/Python_Projects/Glucovision/diabetes_subset_pictures-glucose-food-insulin/008/food_pictures/012.jpg and saved to /Users/jwolber/Documents/Python_Projects/Glucovision/diabetes_subset_pictures-glucose-food-insulin/008/food_pictures/012.jpg\n",
      "Compressed /Users/jwolber/Documents/Python_Projects/Glucovision/diabetes_subset_pictures-glucose-food-insulin/008/food_pictures/020.jpg and saved to /Users/jwolber/Documents/Python_Projects/Glucovision/diabetes_subset_pictures-glucose-food-insulin/008/food_pictures/020.jpg\n",
      "Compressed /Users/jwolber/Documents/Python_Projects/Glucovision/diabetes_subset_pictures-glucose-food-insulin/008/food_pictures/019.jpg and saved to /Users/jwolber/Documents/Python_Projects/Glucovision/diabetes_subset_pictures-glucose-food-insulin/008/food_pictures/019.jpg\n",
      "Compressed /Users/jwolber/Documents/Python_Projects/Glucovision/diabetes_subset_pictures-glucose-food-insulin/008/food_pictures/018.jpg and saved to /Users/jwolber/Documents/Python_Projects/Glucovision/diabetes_subset_pictures-glucose-food-insulin/008/food_pictures/018.jpg\n"
     ]
    }
   ],
   "source": [
    "import os\n",
    "from PIL import Image\n",
    "\n",
    "def compress_image(input_path, output_path, quality=85):\n",
    "    image = Image.open(input_path)\n",
    "    image.save(output_path, \"JPEG\", quality=quality)\n",
    "\n",
    "def compress_images_in_directory(directory, output_directory, quality):\n",
    "    if not os.path.exists(output_directory):\n",
    "        os.makedirs(output_directory)\n",
    "\n",
    "    for filename in os.listdir(directory):\n",
    "        if filename.lower().endswith(('.png', '.jpg', '.jpeg')):\n",
    "            input_path = os.path.join(directory, filename)\n",
    "            output_path = os.path.join(output_directory, filename)\n",
    "            compress_image(input_path, output_path, quality)\n",
    "            print(f\"Compressed {input_path} and saved to {output_path}\")\n",
    "\n",
    "input_directory = \"/Users/jwolber/Documents/Python_Projects/Glucovision/diabetes_subset_pictures-glucose-food-insulin/008/food_pictures\"\n",
    "output_directory = \"/Users/jwolber/Documents/Python_Projects/Glucovision/diabetes_subset_pictures-glucose-food-insulin/008/food_pictures\"\n",
    "compress_images_in_directory(input_directory, output_directory, quality=20)\n"
   ]
  },
  {
   "cell_type": "code",
   "execution_count": 49,
   "metadata": {},
   "outputs": [
    {
     "name": "stdout",
     "output_type": "stream",
     "text": [
      "Processing patient 008\n",
      "(2, 50, 15, 8, 3, 300)\n",
      "(2, 45, 10, 3, 4, 280)\n",
      "(3, 65, 25, 15, 2, 350)\n",
      "(0, 2, 1, 1, 0, 250)\n",
      "(8, 30, 25, 15, 12, 450)\n",
      "(15, 85, 20, 25, 8, 450)\n",
      "(5, 70, 30, 20, 8, 400)\n",
      "(5, 30, 8, 10, 2, 200)\n",
      "(2, 45, 30, 20, 3, 300)\n",
      "(2, 30, 3, 1, 4, 150)\n",
      "(25, 30, 8, 15, 2, 300)\n",
      "(1, 30, 4, 1, 2, 80)\n",
      "(2, 55, 30, 15, 3, 300)\n",
      "(5, 40, 20, 15, 3, 300)\n",
      "(1, 20, 5, 2, 1, 30)\n"
     ]
    }
   ],
   "source": [
    "for patient in ['001', '002', '004', '006', '007', '008']:\n",
    "    print(f\"Processing patient {patient}\")\n",
    "    food_data_path = f\"/Users/jwolber/Documents/Python_Projects/Glucovision/diabetes_subset_pictures-glucose-food-insulin/{patient}/food.csv\"\n",
    "    food_data = pd.read_csv(food_data_path)\n",
    "    food_data[['simple_sugars', 'complex_sugars', 'proteins', 'fats', 'dietary_fibers', 'weight', 'message']] = 0\n",
    "    for i, row in food_data.iterrows():\n",
    "        image_path = f\"/Users/jwolber/Documents/Python_Projects/Glucovision/diabetes_subset_pictures-glucose-food-insulin/{patient}/food_pictures/{row['picture']}\"\n",
    "        base64_image = encode_image(image_path)\n",
    "        response = client.messages.create(\n",
    "            model=\"claude-3-5-sonnet-20240620\",\n",
    "            max_tokens=1024,\n",
    "            messages=[\n",
    "                {\n",
    "                    \"role\": \"user\",\n",
    "                    \"content\": [\n",
    "                        {\n",
    "                            \"type\": \"image\",\n",
    "                            \"source\": {\n",
    "                                \"type\": \"base64\",\n",
    "                                \"media_type\": \"image/jpeg\",  \n",
    "                                \"data\": base64_image,\n",
    "                            },\n",
    "                        },\n",
    "                        {\n",
    "                            \"type\": \"text\",\n",
    "                            \"text\": macronutrients_instruction\n",
    "                        }\n",
    "                    ],\n",
    "                }\n",
    "            ],\n",
    "        )\n",
    "        message = response.content[0].text\n",
    "        try:\n",
    "            parsed_info = parse_nutritional_info(message)\n",
    "            print(parsed_info)\n",
    "            food_data.loc[i, ['simple_sugars', 'complex_sugars', 'proteins', 'fats', 'dietary_fibers', 'weight']] = parsed_info\n",
    "            food_data.loc[i, 'message'] = message\n",
    "        except:\n",
    "            print(f\"Picture {row['picture']} for patient {patient} could not be annotated\")\n",
    "    food_data.to_csv(f'/Users/jwolber/Documents/Python_Projects/Glucovision/sonnet/{patient}.csv', index=False)"
   ]
  },
  {
   "cell_type": "code",
   "execution_count": null,
   "metadata": {},
   "outputs": [],
   "source": []
  }
 ],
 "metadata": {
  "kernelspec": {
   "display_name": "newest",
   "language": "python",
   "name": "python3"
  },
  "language_info": {
   "codemirror_mode": {
    "name": "ipython",
    "version": 3
   },
   "file_extension": ".py",
   "mimetype": "text/x-python",
   "name": "python",
   "nbconvert_exporter": "python",
   "pygments_lexer": "ipython3",
   "version": "3.11.3"
  }
 },
 "nbformat": 4,
 "nbformat_minor": 2
}
