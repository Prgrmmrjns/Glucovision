{
 "cells": [
  {
   "cell_type": "markdown",
   "metadata": {},
   "source": [
    "## Food LLM annotation"
   ]
  },
  {
   "cell_type": "code",
   "execution_count": 41,
   "metadata": {},
   "outputs": [],
   "source": [
    "import pandas as pd\n",
    "import os\n",
    "import base64\n",
    "import requests\n",
    "import re\n",
    "import numpy as np"
   ]
  },
  {
   "cell_type": "code",
   "execution_count": 42,
   "metadata": {},
   "outputs": [],
   "source": [
    "#picture 008 in patient 003, 004, 008, 009, 010, 016 removed. Double\n",
    "#picture 021 in patient 001 removed. Double"
   ]
  },
  {
   "cell_type": "code",
   "execution_count": 43,
   "metadata": {},
   "outputs": [],
   "source": [
    "macronutrients_instruction = '''Examine the provided meal image to analyze and estimate its nutritional content accurately. Focus on determining the amounts of simple sugars (like industrial sugar and honey), \n",
    "complex sugars (such as starch and whole grains), proteins, fats, and dietary fibers (found in fruits and vegetables), all in grams. Also estimate the total weight of the meal in grams.\n",
    "To assist in accurately gauging the scale of the meal, a 1 Swiss Franc coin, which has a diameter of 23.22 mm, may be present in the picture. \n",
    "Use the size of this coin as a reference to estimate the size of the meal and the amounts of the nutrients more precisely. \n",
    "Provide your assessment of each nutritional component in grams. All estimates should be given as a single whole number. If there is no coin in the picture or the meal is covered partially, estimate anyways.\n",
    "Format your response as follows:\n",
    "- Simple sugars (g): \n",
    "- Complex sugars (g): \n",
    "- Proteins (g): \n",
    "- Fats (g): \n",
    "- Dietary fibers (g): \n",
    "- Weight (g): \n",
    "- Explanation: \n",
    "\n",
    "Example response:\n",
    "Simple sugars (g): 40\n",
    "Complex sugars (g): 60\n",
    "Proteins (g): 25\n",
    "Fats (g): 30\n",
    "Dietary fibers (g): 5 \n",
    "Weight (g): 750\n",
    "Explanation: The pizza and cola meal, with its refined crust and toppings, is rich in carbs, fats, and proteins. The cola boosts the meal's simple sugars. \n",
    "The 1 Swiss Franc coin helps estimate the pizza at 30 cm diameter and the cola at 330 ml, indicating a significant blood sugar impact.'''"
   ]
  },
  {
   "cell_type": "code",
   "execution_count": 44,
   "metadata": {},
   "outputs": [],
   "source": [
    "api_key = \"\"\n",
    "headers = {\n",
    "  \"Content-Type\": \"application/json\",\n",
    "  \"Authorization\": f\"Bearer {api_key}\"\n",
    "}"
   ]
  },
  {
   "cell_type": "code",
   "execution_count": 45,
   "metadata": {},
   "outputs": [],
   "source": [
    "def encode_image(image_path):\n",
    "  with open(image_path, \"rb\") as image_file:\n",
    "    return base64.b64encode(image_file.read()).decode('utf-8')\n",
    "  \n",
    "def parse_nutritional_info(text):\n",
    "    pattern = r'(Simple sugars \\(g\\)|Complex sugars \\(g\\)|Proteins \\(g\\)|Fats \\(g\\)|Dietary fibers \\(g\\)|Weight \\(g\\)):\\s*(\\d+)'\n",
    "    matches = re.findall(pattern, text)\n",
    "    nutritional_info = {match[0]: int(match[1]) for match in matches}\n",
    "    simple_sugars = nutritional_info.get('Simple sugars (g)', 0)\n",
    "    complex_sugars = nutritional_info.get('Complex sugars (g)', 0)\n",
    "    proteins = nutritional_info.get('Proteins (g)', 0)\n",
    "    fats = nutritional_info.get('Fats (g)', 0)\n",
    "    dietary_fibers = nutritional_info.get('Dietary fibers (g)', 0)\n",
    "    weight = nutritional_info.get('Weight (g)', 0)\n",
    "    return simple_sugars, complex_sugars, proteins, fats, dietary_fibers, weight"
   ]
  },
  {
   "cell_type": "code",
   "execution_count": 55,
   "metadata": {},
   "outputs": [
    {
     "name": "stdout",
     "output_type": "stream",
     "text": [
      "Processing patient 008\n",
      "(10, 75, 20, 15, 5, 500)\n"
     ]
    },
    {
     "ename": "KeyError",
     "evalue": "'choices'",
     "output_type": "error",
     "traceback": [
      "\u001b[0;31m---------------------------------------------------------------------------\u001b[0m",
      "\u001b[0;31mKeyError\u001b[0m                                  Traceback (most recent call last)",
      "Cell \u001b[0;32mIn[55], line 34\u001b[0m\n\u001b[1;32m     12\u001b[0m payload \u001b[38;5;241m=\u001b[39m {\n\u001b[1;32m     13\u001b[0m \u001b[38;5;124m\"\u001b[39m\u001b[38;5;124mmodel\u001b[39m\u001b[38;5;124m\"\u001b[39m: \u001b[38;5;124m\"\u001b[39m\u001b[38;5;124mgpt-4o\u001b[39m\u001b[38;5;124m\"\u001b[39m,\n\u001b[1;32m     14\u001b[0m \u001b[38;5;124m\"\u001b[39m\u001b[38;5;124mmessages\u001b[39m\u001b[38;5;124m\"\u001b[39m: [\n\u001b[0;32m   (...)\u001b[0m\n\u001b[1;32m     31\u001b[0m \u001b[38;5;124m\"\u001b[39m\u001b[38;5;124mmax_tokens\u001b[39m\u001b[38;5;124m\"\u001b[39m: \u001b[38;5;241m300\u001b[39m\n\u001b[1;32m     32\u001b[0m }\n\u001b[1;32m     33\u001b[0m response \u001b[38;5;241m=\u001b[39m requests\u001b[38;5;241m.\u001b[39mpost(\u001b[38;5;124m\"\u001b[39m\u001b[38;5;124mhttps://api.openai.com/v1/chat/completions\u001b[39m\u001b[38;5;124m\"\u001b[39m, headers\u001b[38;5;241m=\u001b[39mheaders, json\u001b[38;5;241m=\u001b[39mpayload)\n\u001b[0;32m---> 34\u001b[0m message \u001b[38;5;241m=\u001b[39m \u001b[43mresponse\u001b[49m\u001b[38;5;241;43m.\u001b[39;49m\u001b[43mjson\u001b[49m\u001b[43m(\u001b[49m\u001b[43m)\u001b[49m\u001b[43m[\u001b[49m\u001b[38;5;124;43m'\u001b[39;49m\u001b[38;5;124;43mchoices\u001b[39;49m\u001b[38;5;124;43m'\u001b[39;49m\u001b[43m]\u001b[49m[\u001b[38;5;241m0\u001b[39m][\u001b[38;5;124m'\u001b[39m\u001b[38;5;124mmessage\u001b[39m\u001b[38;5;124m'\u001b[39m][\u001b[38;5;124m'\u001b[39m\u001b[38;5;124mcontent\u001b[39m\u001b[38;5;124m'\u001b[39m]\n\u001b[1;32m     35\u001b[0m \u001b[38;5;28;01mtry\u001b[39;00m:\n\u001b[1;32m     36\u001b[0m     parsed_info \u001b[38;5;241m=\u001b[39m parse_nutritional_info(message)\n",
      "\u001b[0;31mKeyError\u001b[0m: 'choices'"
     ]
    }
   ],
   "source": [
    "for patient in ['008']:\n",
    "    print(f\"Processing patient {patient}\")\n",
    "    food_data_path = f\"diabetes_subset_pictures-glucose-food-insulin/{patient}/food.csv\"\n",
    "    food_data = pd.read_csv(food_data_path)\n",
    "    food_data[['simple_sugars', 'complex_sugars', 'proteins', 'fats', 'dietary_fibers', 'weight', 'message']] = 0\n",
    "    food_data.drop(['description', 'calories', 'balance', 'quality'], axis=1, inplace=True)\n",
    "    for i, row in food_data.iterrows():\n",
    "        image_path = f\"diabetes_subset_pictures-glucose-food-insulin/{patient}/food_pictures/{row['picture']}\"\n",
    "        if not os.path.exists(image_path):\n",
    "            continue  \n",
    "        base64_image = encode_image(image_path)\n",
    "        payload = {\n",
    "        \"model\": \"gpt-4o\",\n",
    "        \"messages\": [\n",
    "            {\n",
    "            \"role\": \"user\",\n",
    "            \"content\": [\n",
    "                {\n",
    "                \"type\": \"text\",\n",
    "                \"text\": macronutrients_instruction\n",
    "                },\n",
    "                {\n",
    "                \"type\": \"image_url\",\n",
    "                \"image_url\": {\n",
    "                    \"url\": f\"data:image/jpeg;base64,{base64_image}\"\n",
    "                }\n",
    "                }\n",
    "            ]\n",
    "            }\n",
    "        ],\n",
    "        \"max_tokens\": 300\n",
    "        }\n",
    "        response = requests.post(\"https://api.openai.com/v1/chat/completions\", headers=headers, json=payload)\n",
    "        message = response.json()['choices'][0]['message']['content']\n",
    "        try:\n",
    "            parsed_info = parse_nutritional_info(message)\n",
    "            print(parsed_info)\n",
    "            food_data.loc[i, ['simple_sugars', 'complex_sugars', 'proteins', 'fats', 'dietary_fibers', 'weight']] = parsed_info\n",
    "            food_data.loc[i, 'message'] = message\n",
    "        except:\n",
    "            print(f\"Picture {row['picture']} for patient {patient} could not be annotated\")\n",
    "    food_data.to_csv(f'gpt4o_food_data/food_data_{patient}.csv', index=False)"
   ]
  },
  {
   "cell_type": "code",
   "execution_count": 70,
   "metadata": {},
   "outputs": [
    {
     "name": "stdout",
     "output_type": "stream",
     "text": [
      "(0, 60, 30, 25, 5, 300)\n",
      "(20, 50, 30, 35, 5, 450)\n",
      "(15, 50, 10, 10, 5, 300)\n"
     ]
    }
   ],
   "source": [
    "for i, row in food_data.iterrows():\n",
    "    if np.sum(row[3:-1].values) == 0:\n",
    "        image_path = f\"diabetes_subset_pictures-glucose-food-insulin/{patient}/food_pictures/{row['picture']}\"\n",
    "        if not os.path.exists(image_path):\n",
    "            continue  \n",
    "        base64_image = encode_image(image_path)\n",
    "        payload = {\n",
    "        \"model\": \"gpt-4o\",\n",
    "        \"messages\": [\n",
    "            {\n",
    "            \"role\": \"user\",\n",
    "            \"content\": [\n",
    "                {\n",
    "                \"type\": \"text\",\n",
    "                \"text\": macronutrients_instruction\n",
    "                },\n",
    "                {\n",
    "                \"type\": \"image_url\",\n",
    "                \"image_url\": {\n",
    "                    \"url\": f\"data:image/jpeg;base64,{base64_image}\"\n",
    "                }\n",
    "                }\n",
    "            ]\n",
    "            }\n",
    "        ],\n",
    "        \"max_tokens\": 300\n",
    "        }\n",
    "        response = requests.post(\"https://api.openai.com/v1/chat/completions\", headers=headers, json=payload)\n",
    "        message = response.json()['choices'][0]['message']['content']\n",
    "        try:\n",
    "            parsed_info = parse_nutritional_info(message)\n",
    "            print(parsed_info)\n",
    "            food_data.loc[i, ['simple_sugars', 'complex_sugars', 'proteins', 'fats', 'dietary_fibers', 'weight']] = parsed_info\n",
    "            food_data.loc[i, 'message'] = message\n",
    "        except:\n",
    "            print(f\"Picture {row['picture']} for patient {patient} could not be annotated\")\n",
    "food_data.to_csv(f'gpt4o/{patient}.csv', index=False)"
   ]
  },
  {
   "cell_type": "code",
   "execution_count": null,
   "metadata": {},
   "outputs": [],
   "source": []
  }
 ],
 "metadata": {
  "kernelspec": {
   "display_name": "P_3_12",
   "language": "python",
   "name": "python3"
  },
  "language_info": {
   "codemirror_mode": {
    "name": "ipython",
    "version": 3
   },
   "file_extension": ".py",
   "mimetype": "text/x-python",
   "name": "python",
   "nbconvert_exporter": "python",
   "pygments_lexer": "ipython3",
   "version": "3.11.3"
  }
 },
 "nbformat": 4,
 "nbformat_minor": 2
}
