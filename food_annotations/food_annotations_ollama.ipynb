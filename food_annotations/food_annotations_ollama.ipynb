{
 "cells": [
  {
   "cell_type": "code",
   "execution_count": null,
   "metadata": {},
   "outputs": [],
   "source": [
    "import pandas as pd\n",
    "import ollama\n",
    "from pydantic import BaseModel\n",
    "import json\n",
    "import os\n",
    "import time\n",
    "\n",
    "pd.options.mode.chained_assignment = None"
   ]
  },
  {
   "cell_type": "code",
   "execution_count": 8,
   "metadata": {},
   "outputs": [],
   "source": [
    "# Specify model\n",
    "model = \"mistral-small3.2\""
   ]
  },
  {
   "cell_type": "code",
   "execution_count": 9,
   "metadata": {},
   "outputs": [],
   "source": [
    "class MacronutrientEstimations(BaseModel):\n",
    "    simple_sugars: int\n",
    "    complex_sugars: int\n",
    "    proteins: int\n",
    "    fats: int\n",
    "    dietary_fibers: int\n",
    "    explanation: str\n",
    "\n",
    "macronutrients_instruction = f'''Examine the provided meal image to analyze and estimate its nutritional content accurately. \n",
    "Determine the amounts of simple sugars (like industrial sugar and honey), complex sugars (such as starch and whole grains), proteins, fats, and dietary fibers (found in fruits and vegetables), all in grams.\n",
    "To assist in accurately gauging the scale of the meal, a 1 Swiss Franc coin, which has a diameter of 23 mm, may be present in the picture. \n",
    "Provide your assessment of each nutritional component in grams. All estimates should be given as a single whole number. \n",
    "Use the size of this coin as a reference to estimate the size of the meal and the amounts of the nutrients more precisely. \n",
    "If there is no coin in the picture or the meal is covered partially, estimate anyways.\n",
    "\n",
    "\n",
    "Here are three examples of how to analyze different types of foods:\n",
    "\n",
    "Example 1 - Pizza:\n",
    "{MacronutrientEstimations(\n",
    "    simple_sugars=6,\n",
    "    complex_sugars=65,\n",
    "    proteins=28,\n",
    "    fats=32,\n",
    "    dietary_fibers=5,\n",
    "    explanation=\"This appears to be a medium-sized cheese pizza (about 12 inches in diameter). The crust provides most of the complex sugars (approximately 65g from flour). The tomato sauce contains some simple sugars (6g). The cheese provides most of the protein (28g) and fats (32g). The small amount of tomato sauce and potentially some vegetables contribute to the dietary fiber content (5g).\"\n",
    ")}\n",
    "\n",
    "Example 2 - Bread with cheese and salad:\n",
    "{MacronutrientEstimations(\n",
    "    simple_sugars=4,\n",
    "    complex_sugars=30,\n",
    "    proteins=18,\n",
    "    fats=15,\n",
    "    dietary_fibers=8,\n",
    "    explanation=\"The meal consists of a slice of bread with cheese and a side salad. The bread provides most of the complex sugars (30g from wheat flour). The cheese contributes protein (10g) and fats (10g). The salad provides dietary fibers (8g) and a small amount of simple sugars (4g from vegetables). The bread also contributes some protein (8g) and fats (5g).\"\n",
    ")}\n",
    "\n",
    "Example 3 - Bottle of orange juice:\n",
    "{MacronutrientEstimations(\n",
    "    simple_sugars=42,\n",
    "    complex_sugars=2,\n",
    "    proteins=2,\n",
    "    fats=0,\n",
    "    dietary_fibers=1,\n",
    "    explanation=\"This appears to be a standard 500ml bottle of orange juice. Orange juice is primarily composed of simple sugars (42g from natural fruit sugars). It contains minimal complex sugars (2g), a small amount of protein (2g), negligible fat (0g), and a small amount of dietary fiber (1g) from pulp residue in the juice.\"\n",
    ")}\n",
    "\n",
    "Format your response in the following JSON format:\n",
    "{MacronutrientEstimations(\n",
    "    simple_sugars=0,\n",
    "    complex_sugars=0,\n",
    "    proteins=0,\n",
    "    fats=0,\n",
    "    dietary_fibers=0,\n",
    "    explanation=''\n",
    ")}'''"
   ]
  },
  {
   "cell_type": "code",
   "execution_count": null,
   "metadata": {},
   "outputs": [],
   "source": [
    "def ollama_food_annotations(image_path):\n",
    "\n",
    "    res = ollama.chat(\n",
    "        model=model,\n",
    "        format=MacronutrientEstimations.model_json_schema(),\n",
    "        messages=[\n",
    "            {\n",
    "                'role': 'user',\n",
    "                'content': macronutrients_instruction,\n",
    "                'images': [image_path]\n",
    "            }\n",
    "        ]\n",
    "    )\n",
    "\n",
    "    return res['message']['content']"
   ]
  },
  {
   "cell_type": "code",
   "execution_count": null,
   "metadata": {},
   "outputs": [
    {
     "name": "stdout",
     "output_type": "stream",
     "text": [
      "Processing patient 001\n",
      "Processing patient 002\n",
      "Processing patient 004\n",
      "Processing patient 006\n",
      "Processing patient 007\n",
      "Processing patient 008\n"
     ]
    }
   ],
   "source": [
    "patients = ['001', '002', '004', '006', '007', '008']\n",
    "features = ['simple_sugars', 'complex_sugars', 'fats', 'dietary_fibers', 'proteins', 'fast_insulin', 'slow_insulin']\n",
    "\n",
    "for patient in patients: \n",
    "    print(f\"Processing patient {patient}\")\n",
    "    food_data_path = f\"../diabetes_subset_pictures-glucose-food-insulin/{patient}/food.csv\"\n",
    "    food_data = pd.read_csv(food_data_path)\n",
    "    food_data['simple_sugars'] = 0.0\n",
    "    food_data['complex_sugars'] = 0.0 \n",
    "    food_data['proteins'] = 0.0\n",
    "    food_data['fats'] = 0.0\n",
    "    food_data['dietary_fibers'] = 0.0\n",
    "    food_data['message'] = ''\n",
    "    \n",
    "    for i, row in food_data.iterrows():\n",
    "        image_path = f\"../diabetes_subset_pictures-glucose-food-insulin/{patient}/food_pictures/{row['picture']}\"\n",
    "        max_retries = 3\n",
    "        retry_count = 0\n",
    "        while retry_count < max_retries:\n",
    "            try:\n",
    "                message = ollama_food_annotations(image_path)\n",
    "                estimated_macros = MacronutrientEstimations.model_validate_json(message)\n",
    "                food_data.loc[i, 'simple_sugars'] = estimated_macros.simple_sugars\n",
    "                food_data.loc[i, 'complex_sugars'] = estimated_macros.complex_sugars\n",
    "                food_data.loc[i, 'proteins'] = estimated_macros.proteins\n",
    "                food_data.loc[i, 'fats'] = estimated_macros.fats\n",
    "                food_data.loc[i, 'dietary_fibers'] = estimated_macros.dietary_fibers\n",
    "                food_data.loc[i, 'message'] = estimated_macros.explanation\n",
    "                break\n",
    "            except (json.JSONDecodeError, KeyError) as e:\n",
    "                print(f\"Error processing image {i}, attempt {retry_count + 1}: {str(e)}\")\n",
    "                retry_count += 1\n",
    "                if retry_count == max_retries:\n",
    "                    print(f\"Failed to process image {i} after {max_retries} attempts\")\n",
    "                time.sleep(5)  \n",
    "    if not os.path.exists(f'../food_data/{model}'):\n",
    "        os.makedirs(f'../food_data/{model}')\n",
    "    food_data.to_csv(f'../food_data/{model}/{patient}.csv', index=False)"
   ]
  },
  {
   "cell_type": "code",
   "execution_count": null,
   "metadata": {},
   "outputs": [],
   "source": []
  }
 ],
 "metadata": {
  "kernelspec": {
   "display_name": "base",
   "language": "python",
   "name": "python3"
  },
  "language_info": {
   "codemirror_mode": {
    "name": "ipython",
    "version": 3
   },
   "file_extension": ".py",
   "mimetype": "text/x-python",
   "name": "python",
   "nbconvert_exporter": "python",
   "pygments_lexer": "ipython3",
   "version": "3.11.3"
  }
 },
 "nbformat": 4,
 "nbformat_minor": 2
}
